{
 "cells": [
  {
   "cell_type": "code",
   "execution_count": null,
   "metadata": {},
   "outputs": [],
   "source": [
    "import service"
   ]
  },
  {
   "cell_type": "code",
   "execution_count": 3,
   "metadata": {},
   "outputs": [
    {
     "name": "stdout",
     "output_type": "stream",
     "text": [
      " * Serving Flask app 'service'\n",
      " * Debug mode: on\n",
      "\u001b[31m\u001b[1mWARNING: This is a development server. Do not use it in a production deployment. Use a production WSGI server instead.\u001b[0m\n",
      " * Running on http://127.0.0.1:5000\n",
      "\u001b[33mPress CTRL+C to quit\u001b[0m\n",
      " * Restarting with watchdog (inotify)\n",
      " * Debugger is active!\n",
      " * Debugger PIN: 378-394-249\n",
      "127.0.0.1 - - [12/Sep/2024 20:31:43] \"\u001b[33mPOST /rag_service HTTP/1.1\u001b[0m\" 404 -\n",
      "127.0.0.1 - - [12/Sep/2024 20:31:52] \"\u001b[33mPOST /rag HTTP/1.1\u001b[0m\" 404 -\n",
      "127.0.0.1 - - [12/Sep/2024 20:31:57] \"\u001b[31m\u001b[1mPOST / HTTP/1.1\u001b[0m\" 405 -\n",
      "127.0.0.1 - - [12/Sep/2024 20:32:05] \"\u001b[31m\u001b[1mPOST / HTTP/1.1\u001b[0m\" 405 -\n",
      "127.0.0.1 - - [12/Sep/2024 20:32:16] \"GET / HTTP/1.1\" 200 -\n",
      "127.0.0.1 - - [12/Sep/2024 20:32:41] \"GET /hello/james HTTP/1.1\" 200 -\n",
      "127.0.0.1 - - [12/Sep/2024 20:33:00] \"POST /data HTTP/1.1\" 200 -\n"
     ]
    }
   ],
   "source": [
    "!python service.py"
   ]
  }
 ],
 "metadata": {
  "kernelspec": {
   "display_name": ".venv",
   "language": "python",
   "name": "python3"
  },
  "language_info": {
   "codemirror_mode": {
    "name": "ipython",
    "version": 3
   },
   "file_extension": ".py",
   "mimetype": "text/x-python",
   "name": "python",
   "nbconvert_exporter": "python",
   "pygments_lexer": "ipython3",
   "version": "3.12.3"
  }
 },
 "nbformat": 4,
 "nbformat_minor": 2
}
